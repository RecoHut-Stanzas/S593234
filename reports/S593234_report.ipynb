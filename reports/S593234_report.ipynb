{
  "cells": [
    {
      "cell_type": "markdown",
      "metadata": {
        "id": "view-in-github",
        "colab_type": "text"
      },
      "source": [
        "<a href=\"https://colab.research.google.com/github/RecoHut-Stanzas/S593234/blob/main/reports/S593234_report.ipynb\" target=\"_parent\"><img src=\"https://colab.research.google.com/assets/colab-badge.svg\" alt=\"Open In Colab\"/></a>"
      ]
    },
    {
      "cell_type": "markdown",
      "source": [
        "# Basic Retail Recommender"
      ],
      "metadata": {
        "id": "Axz1ajVcVRJI"
      }
    },
    {
      "cell_type": "markdown",
      "source": [
        "*Recommendation of retail products, especially FMCGs like groceries is a valuable technique to boost revenue and customer satisfaction both. There is some retail data stored in warehouses of most of the e-retailers. Now the question is - how to leverage this data to build recommendation system. Here, we will find some of these answers by training and comparing performances of various recommendation models. The journey obviously is much bigger than a model but it is the essential first step towards the goal.*\n",
        "\n",
        "---\n",
        "\n",
        "## Process Flow\n",
        "\n",
        "![https://raw.githubusercontent.com/RecoHut-Stanzas/S593234/main/images/process_flow.svg](https://raw.githubusercontent.com/RecoHut-Stanzas/S593234/main/images/process_flow.svg)\n",
        "\n",
        "## Tutorials\n",
        "\n",
        "### Simple Recommendation Models\n",
        "\n",
        "In this tutorial, we are training some simple (yet effective) recommendation models, starting from Random model up to ALS, the de-facto favorite of the practitioners.\n",
        "\n",
        "### Advanced ALS Model\n",
        "\n",
        "In this tutorial, we are deep-diving into ALS by tuning various hyperparameters and model parameters, to improve the model performance even further.\n",
        "\n",
        "### LightFM Hybrid Model\n",
        "\n",
        "In this tutorial, we are training another equally favorite model known as *LightFM Hybrid*. This also uses customer's demographics information. Technically, it uses an improved version of ALS loss, called WARP loss. \n",
        "\n",
        "### Two-stage Model\n",
        "\n",
        "If item-space is huge, e.g. in millions in case of giants like YouTube, two-stage model helps. In this tutorial, we are training an ALS-based matching model as stage 1 model and LightGBM based ranking model as stage 2. Matching model select some of the most promising candidate items and ranking model users more advanced (but computationally heavy) features to more accurately estimate the ranking (or buy/click probability score in simple case) of these candidates.\n",
        "\n",
        "## Links & References\n",
        "\n",
        "1. [https://github.com/RecoHut-Stanzas/S593234](https://github.com/RecoHut-Stanzas/S593234)"
      ],
      "metadata": {
        "id": "lIYdn1woOS1n"
      }
    }
  ],
  "metadata": {
    "colab": {
      "name": "scratchpad",
      "provenance": [],
      "include_colab_link": true
    },
    "kernelspec": {
      "display_name": "Python 3",
      "name": "python3"
    }
  },
  "nbformat": 4,
  "nbformat_minor": 0
}